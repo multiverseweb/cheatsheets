{
 "cells": [
  {
   "cell_type": "markdown",
   "id": "17064845-472f-49e0-a1fc-f9def1f027e3",
   "metadata": {},
   "source": [
    "**Welcome to Numpy Tutorial**"
   ]
  },
  {
   "cell_type": "code",
   "execution_count": 1,
   "id": "5779979e-ad9e-4209-bc99-8b44e6dc0d5e",
   "metadata": {},
   "outputs": [],
   "source": [
    "import numpy as np"
   ]
  },
  {
   "cell_type": "markdown",
   "id": "f2f78c12-815a-495d-9567-71a95cf09f3f",
   "metadata": {},
   "source": [
    "**Array creation: conversion from other python structures**"
   ]
  },
  {
   "cell_type": "code",
   "execution_count": 2,
   "id": "9a88da5e-b8f1-45b5-9fe6-8d6f0bd4ca5a",
   "metadata": {},
   "outputs": [
    {
     "data": {
      "text/plain": [
       "array([[  1,   2,   3, 422]], dtype=int64)"
      ]
     },
     "execution_count": 2,
     "metadata": {},
     "output_type": "execute_result"
    }
   ],
   "source": [
    "myarr=np.array([[1,2,3,422]],np.int64)\n",
    "myarr"
   ]
  },
  {
   "cell_type": "code",
   "execution_count": 3,
   "id": "70bb7e37-f91b-4f03-840b-ac4d02944140",
   "metadata": {},
   "outputs": [
    {
     "data": {
      "text/plain": [
       "2"
      ]
     },
     "execution_count": 3,
     "metadata": {},
     "output_type": "execute_result"
    }
   ],
   "source": [
    "myarr[0,1]"
   ]
  },
  {
   "cell_type": "code",
   "execution_count": 4,
   "id": "d011d365-f630-47c6-91e7-0487da1046c0",
   "metadata": {},
   "outputs": [
    {
     "data": {
      "text/plain": [
       "(1, 4)"
      ]
     },
     "execution_count": 4,
     "metadata": {},
     "output_type": "execute_result"
    }
   ],
   "source": [
    "myarr.shape"
   ]
  },
  {
   "cell_type": "code",
   "execution_count": 5,
   "id": "b4a6bb83-2fdf-4528-9237-d7c3d8c85b85",
   "metadata": {},
   "outputs": [
    {
     "data": {
      "text/plain": [
       "2"
      ]
     },
     "execution_count": 5,
     "metadata": {},
     "output_type": "execute_result"
    }
   ],
   "source": [
    "myarr.ndim"
   ]
  },
  {
   "cell_type": "code",
   "execution_count": 6,
   "id": "cab9f301-4f3c-45a2-8cab-08dab22a0258",
   "metadata": {},
   "outputs": [
    {
     "data": {
      "text/plain": [
       "dtype('int64')"
      ]
     },
     "execution_count": 6,
     "metadata": {},
     "output_type": "execute_result"
    }
   ],
   "source": [
    "myarr.dtype"
   ]
  },
  {
   "cell_type": "code",
   "execution_count": 7,
   "id": "e30410ac-070a-4e25-9a9f-b71032369382",
   "metadata": {},
   "outputs": [
    {
     "data": {
      "text/plain": [
       "4"
      ]
     },
     "execution_count": 7,
     "metadata": {},
     "output_type": "execute_result"
    }
   ],
   "source": [
    "myarr.size"
   ]
  },
  {
   "cell_type": "code",
   "execution_count": 8,
   "id": "0c4cc06c-d229-4067-9d6f-cc93d5356ce6",
   "metadata": {},
   "outputs": [
    {
     "data": {
      "text/plain": [
       "array([[  1,  44,   3, 422]], dtype=int64)"
      ]
     },
     "execution_count": 8,
     "metadata": {},
     "output_type": "execute_result"
    }
   ],
   "source": [
    "myarr[0,1]=44\n",
    "myarr"
   ]
  },
  {
   "cell_type": "code",
   "execution_count": 9,
   "id": "95282303-fd71-4c7e-a17d-dc6808a651c6",
   "metadata": {},
   "outputs": [
    {
     "data": {
      "text/plain": [
       "array([[1, 2, 3],\n",
       "       [4, 5, 6],\n",
       "       [7, 8, 9]])"
      ]
     },
     "execution_count": 9,
     "metadata": {},
     "output_type": "execute_result"
    }
   ],
   "source": [
    "mult=np.array([[1,2,3],[4,5,6],[7,8,9]])\n",
    "mult"
   ]
  },
  {
   "cell_type": "code",
   "execution_count": 10,
   "id": "b5c74598-8508-4c99-9f7b-224d07a01768",
   "metadata": {},
   "outputs": [
    {
     "name": "stdout",
     "output_type": "stream",
     "text": [
      "int32\n",
      "(3, 3)\n",
      "9\n",
      "2\n"
     ]
    }
   ],
   "source": [
    "print(mult.dtype)\n",
    "print(mult.shape)\n",
    "print(mult.size)\n",
    "print(mult.ndim)"
   ]
  },
  {
   "cell_type": "markdown",
   "id": "a9c553bc-dd43-43c6-9fdc-e5d720a00cf9",
   "metadata": {},
   "source": [
    "**Array creation: intrinsic numpy array creation objects**"
   ]
  },
  {
   "cell_type": "code",
   "execution_count": 11,
   "id": "43523f50-b65d-4b61-ba0d-ad68f6da987c",
   "metadata": {},
   "outputs": [
    {
     "data": {
      "text/plain": [
       "array([0, 1, 2, 3, 4])"
      ]
     },
     "execution_count": 11,
     "metadata": {},
     "output_type": "execute_result"
    }
   ],
   "source": [
    "arr=np.arange(5)\n",
    "arr"
   ]
  },
  {
   "cell_type": "code",
   "execution_count": 12,
   "id": "941da62b-0fd2-4bb6-a856-c26c08053718",
   "metadata": {},
   "outputs": [
    {
     "data": {
      "text/plain": [
       "array([ 0,  1,  2,  3,  4,  5,  6,  7,  8,  9, 10, 11, 12, 13, 14])"
      ]
     },
     "execution_count": 12,
     "metadata": {},
     "output_type": "execute_result"
    }
   ],
   "source": [
    "arr2=np.arange(15)\n",
    "arr2"
   ]
  },
  {
   "cell_type": "code",
   "execution_count": 13,
   "id": "97b3985d-0eb5-48cf-ab32-a08b721aa389",
   "metadata": {},
   "outputs": [
    {
     "data": {
      "text/plain": [
       "array([1. , 1.2, 1.4, 1.6, 1.8, 2. ])"
      ]
     },
     "execution_count": 13,
     "metadata": {},
     "output_type": "execute_result"
    }
   ],
   "source": [
    "lspace=np.linspace(1,2,6)\n",
    "lspace"
   ]
  },
  {
   "cell_type": "code",
   "execution_count": 14,
   "id": "1772c1e9-8e79-46ce-9b8f-428fe8344a5c",
   "metadata": {},
   "outputs": [
    {
     "data": {
      "text/plain": [
       "array([[0., 0., 0.],\n",
       "       [0., 0., 0.],\n",
       "       [0., 0., 0.],\n",
       "       [0., 0., 0.]])"
      ]
     },
     "execution_count": 14,
     "metadata": {},
     "output_type": "execute_result"
    }
   ],
   "source": [
    "z=np.zeros((4,3))\n",
    "z"
   ]
  },
  {
   "cell_type": "code",
   "execution_count": 15,
   "id": "343de38e-21a1-4ad6-b537-695b2a6698b3",
   "metadata": {},
   "outputs": [
    {
     "data": {
      "text/plain": [
       "array([[1., 1., 1., 1.],\n",
       "       [1., 1., 1., 1.],\n",
       "       [1., 1., 1., 1.],\n",
       "       [1., 1., 1., 1.]])"
      ]
     },
     "execution_count": 15,
     "metadata": {},
     "output_type": "execute_result"
    }
   ],
   "source": [
    "z=np.ones((4,4))\n",
    "z"
   ]
  },
  {
   "cell_type": "code",
   "execution_count": 16,
   "id": "23b328be-87ed-4c59-8344-e8aa3dca1884",
   "metadata": {},
   "outputs": [
    {
     "data": {
      "text/plain": [
       "array([[0.00000000e+000],\n",
       "       [1.13530579e-311],\n",
       "       [1.13632468e-311],\n",
       "       [1.13632501e-311]])"
      ]
     },
     "execution_count": 16,
     "metadata": {},
     "output_type": "execute_result"
    }
   ],
   "source": [
    "emp=np.empty((4,1))\n",
    "emp"
   ]
  },
  {
   "cell_type": "code",
   "execution_count": 17,
   "id": "f0dcafd5-2dbf-4990-9073-8c30c57901a8",
   "metadata": {},
   "outputs": [
    {
     "data": {
      "text/plain": [
       "array([1864394083, 1867522150, 1931508076, 1701409381, 1868767347])"
      ]
     },
     "execution_count": 17,
     "metadata": {},
     "output_type": "execute_result"
    }
   ],
   "source": [
    "like=np.empty_like(arr)\n",
    "like"
   ]
  },
  {
   "cell_type": "code",
   "execution_count": 18,
   "id": "bf146d11-46da-480a-942e-9f6be6618f4f",
   "metadata": {},
   "outputs": [
    {
     "data": {
      "text/plain": [
       "array([[1., 0., 0., 0., 0., 0., 0.],\n",
       "       [0., 1., 0., 0., 0., 0., 0.],\n",
       "       [0., 0., 1., 0., 0., 0., 0.],\n",
       "       [0., 0., 0., 1., 0., 0., 0.],\n",
       "       [0., 0., 0., 0., 1., 0., 0.],\n",
       "       [0., 0., 0., 0., 0., 1., 0.],\n",
       "       [0., 0., 0., 0., 0., 0., 1.]])"
      ]
     },
     "execution_count": 18,
     "metadata": {},
     "output_type": "execute_result"
    }
   ],
   "source": [
    "ide=np.identity(7)\n",
    "ide"
   ]
  },
  {
   "cell_type": "code",
   "execution_count": 19,
   "id": "51a7140f-a2e9-41f7-a5b6-7f9e1eb5bc98",
   "metadata": {},
   "outputs": [
    {
     "data": {
      "text/plain": [
       "array([0, 1, 2, 3, 4, 5, 6, 7, 8, 9])"
      ]
     },
     "execution_count": 19,
     "metadata": {},
     "output_type": "execute_result"
    }
   ],
   "source": [
    "a=np.arange(10)\n",
    "a"
   ]
  },
  {
   "cell_type": "code",
   "execution_count": 20,
   "id": "8f099ef4-d533-4ad5-b584-fbcdd0bc86f9",
   "metadata": {},
   "outputs": [
    {
     "data": {
      "text/plain": [
       "(10,)"
      ]
     },
     "execution_count": 20,
     "metadata": {},
     "output_type": "execute_result"
    }
   ],
   "source": [
    "a.shape"
   ]
  },
  {
   "cell_type": "code",
   "execution_count": 21,
   "id": "96f9713e-1c64-4154-bfaa-50a89f460aa9",
   "metadata": {},
   "outputs": [
    {
     "data": {
      "text/plain": [
       "array([[0, 1],\n",
       "       [2, 3],\n",
       "       [4, 5],\n",
       "       [6, 7],\n",
       "       [8, 9]])"
      ]
     },
     "execution_count": 21,
     "metadata": {},
     "output_type": "execute_result"
    }
   ],
   "source": [
    "a.reshape(5,2)"
   ]
  },
  {
   "cell_type": "code",
   "execution_count": 22,
   "id": "044935e0-e059-4b20-87df-a450a72a9318",
   "metadata": {},
   "outputs": [
    {
     "data": {
      "text/plain": [
       "array([0, 1, 2, 3, 4, 5, 6, 7, 8, 9])"
      ]
     },
     "execution_count": 22,
     "metadata": {},
     "output_type": "execute_result"
    }
   ],
   "source": [
    "a"
   ]
  },
  {
   "cell_type": "code",
   "execution_count": 23,
   "id": "9af8cb3c-2b3e-4c65-9019-340aea4d982b",
   "metadata": {},
   "outputs": [
    {
     "data": {
      "text/plain": [
       "array([[0, 1],\n",
       "       [2, 3],\n",
       "       [4, 5],\n",
       "       [6, 7],\n",
       "       [8, 9]])"
      ]
     },
     "execution_count": 23,
     "metadata": {},
     "output_type": "execute_result"
    }
   ],
   "source": [
    "a=a.reshape(5,2)\n",
    "a"
   ]
  },
  {
   "cell_type": "code",
   "execution_count": 24,
   "id": "9f2fb60e-b8c5-47ee-98d7-526d7f91a8a9",
   "metadata": {},
   "outputs": [
    {
     "data": {
      "text/plain": [
       "array([0, 1, 2, 3, 4])"
      ]
     },
     "execution_count": 24,
     "metadata": {},
     "output_type": "execute_result"
    }
   ],
   "source": [
    "arr.ravel()"
   ]
  },
  {
   "cell_type": "code",
   "execution_count": 25,
   "id": "a8d0bf45-76bd-49ea-8a88-1958ca911251",
   "metadata": {},
   "outputs": [
    {
     "data": {
      "text/plain": [
       "array([[1, 2, 3],\n",
       "       [4, 5, 6],\n",
       "       [7, 8, 9]])"
      ]
     },
     "execution_count": 25,
     "metadata": {},
     "output_type": "execute_result"
    }
   ],
   "source": [
    "x=np.array([[1,2,3],[4,5,6],[7,8,9]])\n",
    "x"
   ]
  },
  {
   "cell_type": "code",
   "execution_count": 26,
   "id": "66fc47ef-6e5f-46ed-b653-016ea8728ee2",
   "metadata": {},
   "outputs": [
    {
     "data": {
      "text/plain": [
       "45"
      ]
     },
     "execution_count": 26,
     "metadata": {},
     "output_type": "execute_result"
    }
   ],
   "source": [
    "x.sum()"
   ]
  },
  {
   "cell_type": "code",
   "execution_count": 27,
   "id": "0f6dca5f-e40b-4394-b218-159c1e6399e8",
   "metadata": {},
   "outputs": [
    {
     "data": {
      "text/plain": [
       "array([12, 15, 18])"
      ]
     },
     "execution_count": 27,
     "metadata": {},
     "output_type": "execute_result"
    }
   ],
   "source": [
    "x.sum(axis=0)"
   ]
  },
  {
   "cell_type": "code",
   "execution_count": 28,
   "id": "672855e9-2898-469c-a83f-882c59744fcc",
   "metadata": {},
   "outputs": [
    {
     "data": {
      "text/plain": [
       "array([ 6, 15, 24])"
      ]
     },
     "execution_count": 28,
     "metadata": {},
     "output_type": "execute_result"
    }
   ],
   "source": [
    "x.sum(axis=1)"
   ]
  },
  {
   "cell_type": "code",
   "execution_count": 29,
   "id": "7eb125b9-c685-4651-bb41-d49d08e21009",
   "metadata": {},
   "outputs": [
    {
     "data": {
      "text/plain": [
       "array([[1, 2, 3, 4, 5, 6, 7, 8, 9, 1, 2, 3],\n",
       "       [4, 5, 6, 7, 8, 9, 1, 2, 3, 4, 5, 6],\n",
       "       [7, 8, 9, 1, 2, 3, 4, 5, 6, 7, 8, 9],\n",
       "       [1, 2, 3, 4, 5, 6, 7, 8, 9, 1, 2, 3],\n",
       "       [4, 5, 6, 7, 8, 9, 1, 2, 3, 4, 5, 6],\n",
       "       [7, 8, 9, 1, 2, 3, 4, 5, 6, 7, 8, 9],\n",
       "       [1, 2, 3, 4, 5, 6, 7, 8, 9, 1, 2, 3],\n",
       "       [4, 5, 6, 7, 8, 9, 1, 2, 3, 4, 5, 6],\n",
       "       [7, 8, 9, 1, 2, 3, 4, 5, 6, 7, 8, 9]])"
      ]
     },
     "execution_count": 29,
     "metadata": {},
     "output_type": "execute_result"
    }
   ],
   "source": [
    "y=np.array([[[[1,2,3],[4,5,6],[7,8,9]],[[1,2,3],[4,5,6],[7,8,9]],[[1,2,3],[4,5,6],[7,8,9]]],[[[1,2,3],[4,5,6],[7,8,9]],[[1,2,3],[4,5,6],[7,8,9]],[[1,2,3],[4,5,6],[7,8,9]]],[[[1,2,3],[4,5,6],[7,8,9]],[[1,2,3],[4,5,6],[7,8,9]],[[1,2,3],[4,5,6],[7,8,9]]],[[[1,2,3],[4,5,6],[7,8,9]],[[1,2,3],[4,5,6],[7,8,9]],[[1,2,3],[4,5,6],[7,8,9]]]])\n",
    "y.reshape(9,12)"
   ]
  },
  {
   "cell_type": "code",
   "execution_count": 30,
   "id": "a3fe0dba-7fc9-4bb8-8acc-a742e853cf7c",
   "metadata": {},
   "outputs": [
    {
     "data": {
      "text/plain": [
       "(4, 3, 3, 3)"
      ]
     },
     "execution_count": 30,
     "metadata": {},
     "output_type": "execute_result"
    }
   ],
   "source": [
    "y.shape"
   ]
  },
  {
   "cell_type": "code",
   "execution_count": 31,
   "id": "a856bafd-040f-4742-9622-7ae80bba3e8f",
   "metadata": {},
   "outputs": [
    {
     "data": {
      "text/plain": [
       "array([[1, 4, 7],\n",
       "       [2, 5, 8],\n",
       "       [3, 6, 9]])"
      ]
     },
     "execution_count": 31,
     "metadata": {},
     "output_type": "execute_result"
    }
   ],
   "source": [
    "x.T"
   ]
  },
  {
   "cell_type": "code",
   "execution_count": 32,
   "id": "ebd1cde9-c966-4a49-b073-790f3165168f",
   "metadata": {},
   "outputs": [
    {
     "data": {
      "text/plain": [
       "4"
      ]
     },
     "execution_count": 32,
     "metadata": {},
     "output_type": "execute_result"
    }
   ],
   "source": [
    "y.ndim"
   ]
  },
  {
   "cell_type": "code",
   "execution_count": 33,
   "id": "3dcb703e-c3e1-479a-b0bc-582473187c84",
   "metadata": {},
   "outputs": [
    {
     "data": {
      "text/plain": [
       "array([[1, 4, 7],\n",
       "       [2, 5, 8],\n",
       "       [3, 6, 9]])"
      ]
     },
     "execution_count": 33,
     "metadata": {},
     "output_type": "execute_result"
    }
   ],
   "source": [
    "x.transpose()"
   ]
  },
  {
   "cell_type": "code",
   "execution_count": 34,
   "id": "e1e4bd49-cfc0-4380-9b88-fd6d0a92268c",
   "metadata": {},
   "outputs": [
    {
     "data": {
      "text/plain": [
       "array([1, 3, 2, 4])"
      ]
     },
     "execution_count": 34,
     "metadata": {},
     "output_type": "execute_result"
    }
   ],
   "source": [
    "l=np.array([1,3,2,4])\n",
    "l"
   ]
  },
  {
   "cell_type": "code",
   "execution_count": 35,
   "id": "450ea9de-c61c-4538-8a65-38cdf47f1123",
   "metadata": {},
   "outputs": [
    {
     "data": {
      "text/plain": [
       "10"
      ]
     },
     "execution_count": 35,
     "metadata": {},
     "output_type": "execute_result"
    }
   ],
   "source": [
    "l.sum(axis=0)"
   ]
  },
  {
   "cell_type": "code",
   "execution_count": 36,
   "id": "2c8b3811-5452-44ff-973f-f45903be0e0a",
   "metadata": {},
   "outputs": [
    {
     "data": {
      "text/plain": [
       "<numpy.flatiter at 0x217049704d0>"
      ]
     },
     "execution_count": 36,
     "metadata": {},
     "output_type": "execute_result"
    }
   ],
   "source": [
    "l.flat"
   ]
  },
  {
   "cell_type": "code",
   "execution_count": 37,
   "id": "bb814390-ea5d-4b66-b2e6-72b7641d006e",
   "metadata": {},
   "outputs": [
    {
     "data": {
      "text/plain": [
       "16"
      ]
     },
     "execution_count": 37,
     "metadata": {},
     "output_type": "execute_result"
    }
   ],
   "source": [
    "l.nbytes"
   ]
  },
  {
   "cell_type": "code",
   "execution_count": 38,
   "id": "9832ac08-07fd-41f1-a107-f57b6a1156e7",
   "metadata": {},
   "outputs": [
    {
     "data": {
      "text/plain": [
       "3"
      ]
     },
     "execution_count": 38,
     "metadata": {},
     "output_type": "execute_result"
    }
   ],
   "source": [
    "l.argmax()"
   ]
  },
  {
   "cell_type": "code",
   "execution_count": 39,
   "id": "9134bf73-7d51-4062-a239-f54e9abb4a58",
   "metadata": {},
   "outputs": [
    {
     "data": {
      "text/plain": [
       "0"
      ]
     },
     "execution_count": 39,
     "metadata": {},
     "output_type": "execute_result"
    }
   ],
   "source": [
    "l.argmin()"
   ]
  },
  {
   "cell_type": "code",
   "execution_count": 40,
   "id": "5b707f86-bf09-438a-ab78-b85598627aea",
   "metadata": {},
   "outputs": [
    {
     "data": {
      "text/plain": [
       "array([1, 2, 3, 4])"
      ]
     },
     "execution_count": 40,
     "metadata": {},
     "output_type": "execute_result"
    }
   ],
   "source": [
    "l.sort()\n",
    "l"
   ]
  },
  {
   "cell_type": "code",
   "execution_count": 41,
   "id": "48846973-123b-4570-b942-a88ead536955",
   "metadata": {},
   "outputs": [
    {
     "data": {
      "text/plain": [
       "(array([1, 2, 2, 2], dtype=int64), array([2, 0, 1, 2], dtype=int64))"
      ]
     },
     "execution_count": 41,
     "metadata": {},
     "output_type": "execute_result"
    }
   ],
   "source": [
    "np.where(x>5)"
   ]
  },
  {
   "cell_type": "code",
   "execution_count": 42,
   "id": "1dbfe236-e1cc-47d8-9c7b-00829c6a2a8e",
   "metadata": {},
   "outputs": [],
   "source": [
    "py_ar=[0,2,56,78]"
   ]
  },
  {
   "cell_type": "code",
   "execution_count": 43,
   "id": "29b5a00b-c9cb-456c-a808-de4b125f19c5",
   "metadata": {},
   "outputs": [],
   "source": [
    "np_ar=np.array(py_ar)"
   ]
  },
  {
   "cell_type": "code",
   "execution_count": 44,
   "id": "23a63b16-c451-443e-abfb-a52a6f0b4ac5",
   "metadata": {},
   "outputs": [
    {
     "data": {
      "text/plain": [
       "112"
      ]
     },
     "execution_count": 44,
     "metadata": {},
     "output_type": "execute_result"
    }
   ],
   "source": [
    "import sys\n",
    "sys.getsizeof(1)*len(py_ar)"
   ]
  },
  {
   "cell_type": "code",
   "execution_count": 45,
   "id": "2ef60a29-b08a-47da-aa64-b9fb446174f6",
   "metadata": {},
   "outputs": [
    {
     "data": {
      "text/plain": [
       "112"
      ]
     },
     "execution_count": 45,
     "metadata": {},
     "output_type": "execute_result"
    }
   ],
   "source": [
    "sys.getsizeof(1)*len(np_ar)"
   ]
  },
  {
   "cell_type": "code",
   "execution_count": 46,
   "id": "eb6a61db-3537-45cd-b64c-c7cdf1310099",
   "metadata": {},
   "outputs": [
    {
     "data": {
      "text/plain": [
       "128"
      ]
     },
     "execution_count": 46,
     "metadata": {},
     "output_type": "execute_result"
    }
   ],
   "source": [
    "sys.getsizeof(np_ar)"
   ]
  },
  {
   "cell_type": "code",
   "execution_count": 47,
   "id": "4b704089-86af-4115-96ac-297b6a85d605",
   "metadata": {},
   "outputs": [
    {
     "data": {
      "text/plain": [
       "88"
      ]
     },
     "execution_count": 47,
     "metadata": {},
     "output_type": "execute_result"
    }
   ],
   "source": [
    "sys.getsizeof(py_ar)"
   ]
  },
  {
   "cell_type": "code",
   "execution_count": 48,
   "id": "3456b3e4-f540-47ab-a903-7b62135dd1c9",
   "metadata": {},
   "outputs": [
    {
     "data": {
      "text/plain": [
       "16"
      ]
     },
     "execution_count": 48,
     "metadata": {},
     "output_type": "execute_result"
    }
   ],
   "source": [
    "np_ar.itemsize*np_ar.size"
   ]
  },
  {
   "cell_type": "code",
   "execution_count": 49,
   "id": "75b16472-b4c8-4070-b6ab-779e9799ae8f",
   "metadata": {},
   "outputs": [],
   "source": [
    "#Tejas' Python Code"
   ]
  }
 ],
 "metadata": {
  "kernelspec": {
   "display_name": "Python 3 (ipykernel)",
   "language": "python",
   "name": "python3"
  },
  "language_info": {
   "codemirror_mode": {
    "name": "ipython",
    "version": 3
   },
   "file_extension": ".py",
   "mimetype": "text/x-python",
   "name": "python",
   "nbconvert_exporter": "python",
   "pygments_lexer": "ipython3",
   "version": "3.11.4"
  }
 },
 "nbformat": 4,
 "nbformat_minor": 5
}
